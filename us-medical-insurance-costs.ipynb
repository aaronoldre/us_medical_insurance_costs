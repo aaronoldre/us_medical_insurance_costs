{
 "cells": [
  {
   "cell_type": "markdown",
   "metadata": {},
   "source": [
    "# U.S. Medical Insurance Costs\n",
    "\n",
    "In this project, a **CSV** file with medical insurance costs will be investigated using Python fundamentals. The goal with this project will be to analyze various attributes within **insurance.csv** to learn more about the patient information in the file and gain insight into potential use cases for the dataset."
   ]
  },
  {
   "cell_type": "code",
   "execution_count": 1,
   "metadata": {},
   "outputs": [],
   "source": [
    "# import the csv library\n",
    "import csv"
   ]
  },
  {
   "cell_type": "markdown",
   "metadata": {},
   "source": [
    "To start, all necessary libraries must be imported. For this project the only library needed is the `csv` library in order to work with the **insurance.csv** data. There are other potential libraries (pandas) that could help with this project; however, for this analysis project, using just the `csv` library will suffice for loading and utilizing classes and functions for analysis."
   ]
  },
  {
   "cell_type": "markdown",
   "metadata": {},
   "source": [
    "The next step is to look through **insurance.csv** in order to get aquanted with the data. The following aspects of the data file will be checked in order to plan out how to import the data into a Python file:\n",
    "* The names of columns and rows\n",
    "* Any noticeable missing data\n",
    "* Types of values (numerical vs. categorical)"
   ]
  },
  {
   "cell_type": "code",
   "execution_count": 2,
   "metadata": {
    "scrolled": true
   },
   "outputs": [
    {
     "name": "stdout",
     "output_type": "stream",
     "text": [
      "age,sex,bmi,children,smoker,region,charges\n",
      "19,female,27.9,0,yes,southwest,16884.924\n",
      "18,male,33.77,1,no,southeast,1725.5523\n",
      "28,male,33,3,no,southeast,4449.462\n",
      "33,male,22.705,0,no,northwest,21984.47061\n",
      "32,male,28.88,0,no,northwest,3866.8552\n",
      "31,female,25.74,0,no,southeast,3756.6216\n",
      "46,female,33.44,1,no,southeast,8240.5896\n",
      "37,female,27.74,3,no,northwest,7281.5056\n",
      "37,male,29.83,2,no,northeast,6406.4107\n"
     ]
    }
   ],
   "source": [
    "# look at the first 10 rows of the csv to see what is in there\n",
    "with open('insurance.csv', newline='') as csvfile:\n",
    "    csvreader = csv.reader(csvfile, delimiter=' ', quotechar='|')\n",
    "    i=0\n",
    "    for row in csvreader:\n",
    "        if i == 10:\n",
    "            break\n",
    "        else:\n",
    "            print(', '.join(row))\n",
    "            i +=1"
   ]
  },
  {
   "cell_type": "markdown",
   "metadata": {},
   "source": [
    "**insurance.csv** contains the following columns:\n",
    "* Patient Age\n",
    "* Patient Sex \n",
    "* Patient BMI\n",
    "* Patient Number of Children\n",
    "* Patient Smoking Status\n",
    "* Patient U.S Geopraphical Region\n",
    "* Patient Yearly Medical Insurance Cost\n",
    "\n",
    "There are no signs of missing data. To store this information, seven empty lists will be created hold each individual column of data from **insurance.csv**."
   ]
  },
  {
   "cell_type": "code",
   "execution_count": 3,
   "metadata": {},
   "outputs": [],
   "source": [
    "# Create empty lists for the various column of insurance.csv\n",
    "ages = []\n",
    "sexes = []\n",
    "bmis = []\n",
    "num_children = []\n",
    "smoker_statuses = []\n",
    "regions = []\n",
    "insurance_charges = []"
   ]
  },
  {
   "cell_type": "code",
   "execution_count": 4,
   "metadata": {},
   "outputs": [],
   "source": [
    "# function to load csv data by column\n",
    "def load_list_data(lst, filename, col):\n",
    "    # open the csv\n",
    "    with open(filename) as csv_info:\n",
    "        # read the data from the csv\n",
    "        csv_dict = csv.DictReader(csv_info)\n",
    "        # walk through the data in each row of the csv \n",
    "        for row in csv_dict:\n",
    "            # add data from each row to list\n",
    "            lst.append(row[col])\n",
    "        # return list\n",
    "        return lst"
   ]
  },
  {
   "cell_type": "code",
   "execution_count": 5,
   "metadata": {
    "scrolled": false
   },
   "outputs": [],
   "source": [
    "%%capture\n",
    "# use capture on a cell to prevent the output from dominating the screen\n",
    "\n",
    "# load the data into insurance_csv_dict\n",
    "load_list_data(ages, 'insurance.csv', 'age')\n",
    "load_list_data(sexes, 'insurance.csv', 'sex')\n",
    "load_list_data(bmis, 'insurance.csv', 'bmi')\n",
    "load_list_data(num_children, 'insurance.csv', 'children')\n",
    "load_list_data(smoker_statuses, 'insurance.csv', 'smoker')\n",
    "load_list_data(regions, 'insurance.csv', 'region')\n",
    "load_list_data(insurance_charges, 'insurance.csv', 'charges')"
   ]
  },
  {
   "cell_type": "markdown",
   "metadata": {},
   "source": [
    "The data from **insurance.csv** is neatly organized into labeled lists and analysis can begin. This is where one must plan out what to investigate and how to perform the analysis. There are many aspects of the data that could be looked into. The following operations will be implemented:\n",
    "* find average age of the patients\n",
    "* find geographical location of the patients\n",
    "* compare costs for smokers and non-smokers\n",
    "* compare average age to number of children\n",
    "\n",
    "To perform these inspections, a class called `PatientsData` has been built out which contains four methods:\n",
    "* `analyze_ages()`\n",
    "* `unique_regions()`\n",
    "* `analyze_smokers()`\n",
    "* `analyze_age_v_children`\n",
    "\n",
    "plus let's create a dictionary (so five methods)\n",
    "* `create_dictionary()`\n",
    "\n",
    "The class has been built out below. YAY Object Oriented Programming!"
   ]
  },
  {
   "cell_type": "code",
   "execution_count": 6,
   "metadata": {},
   "outputs": [],
   "source": [
    "class PatientsData:\n",
    "    # init method that takes in each list as a parameter\n",
    "    def __init__(self, age, sex, bmi, num_children, smoker, location, charges):\n",
    "        self.age = age\n",
    "        self.sex = sex\n",
    "        self.bmi = bmi\n",
    "        self.num_children = num_children\n",
    "        self.smoker = smoker\n",
    "        self.location = location\n",
    "        self.charges = charges\n",
    "        \n",
    "    # method that calculates the average age of patients in the dataset\n",
    "    def analyze_ages(self):\n",
    "        # initialize the sum of the ages to zero\n",
    "        sum_age = 0\n",
    "        # iterate through all the values in ages list\n",
    "        for age in self.age:\n",
    "            # sum of the ages\n",
    "            # ages are strings in the csv\n",
    "            sum_age += int(age)\n",
    "        avg_age = sum_age/len(self.age)\n",
    "        avg_age = round(avg_age, 1)\n",
    "        # calculate the variance and then the standard deviation\n",
    "        var_age = [(int(i)-avg_age)**2 for i in self.age]\n",
    "        std_age = (sum(var_age)/len(var_age))**0.5\n",
    "        std_age = round(std_age, 1)\n",
    "        # return the average age and standard deviation\n",
    "        return(f'The average patient age from the dataset is {avg_age} with a standard deviation of {std_age}')\n",
    "    \n",
    "    # method that groups the dataset by region and counts the number of patients in each region\n",
    "    def unique_regions(self):\n",
    "        # create empty dictionary\n",
    "        region_dict = {}\n",
    "        for x in self.location:\n",
    "            # check if exists in region_dict or not\n",
    "            if x not in region_dict.keys():\n",
    "                region_dict[x] = 1\n",
    "            else:\n",
    "                # adds the count\n",
    "                region_dict[x] += 1\n",
    "        for region in region_dict:\n",
    "            # print the count of patients in each region\n",
    "            print(f'{region_dict[region]} patients live in the {region}')\n",
    "    \n",
    "    # method that calculates the average insurance charges for smokers and non-smokers\n",
    "    def analyze_smokers(self):\n",
    "        # creates empty dictionary\n",
    "        smoker_dict = {}\n",
    "        for cost, smoker in zip(self.charges, self.smoker):\n",
    "            # check if exists in smoker_dict or not\n",
    "            if smoker not in smoker_dict.keys():\n",
    "                # costs are stored as strings in the file\n",
    "                smoker_dict[smoker] = {'cost': float(cost), 'count':1}\n",
    "            else:\n",
    "                # adds the count of patients and adds their insurance cost to ongoing total\n",
    "                smoker_dict[smoker]['cost'] += float(cost)\n",
    "                smoker_dict[smoker]['count'] += 1\n",
    "        for smoker in smoker_dict.keys():\n",
    "            # calculates the average cost per smoker type\n",
    "            avg_cost = round(smoker_dict[smoker]['cost']/smoker_dict[smoker]['count'],0)\n",
    "            # create print statements and language proper from if they are a smoker or not\n",
    "            if smoker == 'no':\n",
    "                str_not = ' not'\n",
    "            else:\n",
    "                str_not = ''\n",
    "            print(f'Patients who do{str_not} smoke have an average insurance charge of ${avg_cost}')\n",
    "        \n",
    "    # method that groups patients by the number of children they have and calculates the average age of those patients \n",
    "    def analyze_age_v_children(self):\n",
    "        # creates empty dictionary\n",
    "        children_dict = {}\n",
    "        for age, num_children in zip(self.age, self.num_children):\n",
    "            # check if exists in children_dict or not\n",
    "            if num_children not in children_dict.keys():\n",
    "                # ages are stored as strings in the file\n",
    "                children_dict[num_children] = {'age': int(age), 'count':1}\n",
    "            else:\n",
    "                # adds the count of patients adds their count of children \n",
    "                children_dict[num_children]['age'] += int(age)\n",
    "                children_dict[num_children]['count'] += 1\n",
    "        for num_children in children_dict.keys():\n",
    "            # calculates the average age per number of children\n",
    "            avg_age = round(children_dict[num_children]['age']/children_dict[num_children]['count'],1)\n",
    "            # creates print statements that match child/children depending on the value\n",
    "            if num_children == 1:\n",
    "                print(f'The average patient age for having {num_children} child is {avg_age}')\n",
    "            else:\n",
    "                print(f'The average patient age for having {num_children} children is {avg_age}')\n",
    "                \n",
    "    # method to create a dictionary with the patient data easily accessable\n",
    "    def create_dictionary(self):\n",
    "        self.patients_dictionary = {}\n",
    "        for patient_id, age, sex, bmi, num_children, smoker, location, charges in zip(range(len(self.age)), self.age, self.sex, self.bmi, self.num_children, self.smoker, self.location, self.charges):\n",
    "            # create a key for each patient in the loaded data and the attributes as the keys within each item\n",
    "            self.patients_dictionary['patient_' + str(patient_id)] = {'age': int(age),\n",
    "                                                                        'sex': sex,\n",
    "                                                                        'bmi': float(bmi),\n",
    "                                                                        'num_children': int(num_children),\n",
    "                                                                        'smoker': smoker, \n",
    "                                                                        'location': location,\n",
    "                                                                        'charges': float(charges)\n",
    "                                                                       }\n",
    "        return self.patients_dictionary"
   ]
  },
  {
   "cell_type": "markdown",
   "metadata": {},
   "source": [
    "Let's create an instance of the class `PatientsData` and load the lists created from **insurance.csv**"
   ]
  },
  {
   "cell_type": "code",
   "execution_count": 7,
   "metadata": {},
   "outputs": [],
   "source": [
    "patient_info = PatientsData(ages, sexes, bmis, num_children, smoker_statuses, regions, insurance_charges)"
   ]
  },
  {
   "cell_type": "code",
   "execution_count": 8,
   "metadata": {
    "scrolled": true
   },
   "outputs": [
    {
     "data": {
      "text/plain": [
       "'The average patient age from the dataset is 39.2 with a standard deviation of 14.0'"
      ]
     },
     "execution_count": 8,
     "metadata": {},
     "output_type": "execute_result"
    }
   ],
   "source": [
    "patient_info.analyze_ages()"
   ]
  },
  {
   "cell_type": "markdown",
   "metadata": {},
   "source": [
    "The first task was the check the average age of the patients in the dataset. The average age was 39.2 years old. This is the first check to make sure the dataset is representative of the broader population. If it is decided to use the dataset to make inferences about other populations, the data must abundant and broad enough for such use cases."
   ]
  },
  {
   "cell_type": "code",
   "execution_count": 9,
   "metadata": {},
   "outputs": [
    {
     "name": "stdout",
     "output_type": "stream",
     "text": [
      "325 patients live in the southwest\n",
      "364 patients live in the southeast\n",
      "325 patients live in the northwest\n",
      "324 patients live in the northeast\n"
     ]
    }
   ],
   "source": [
    "patient_info.unique_regions()"
   ]
  },
  {
   "cell_type": "markdown",
   "metadata": {},
   "source": [
    "The second task was to check the distribution of patients across the different regions. This shows a pretty uniform distribution in each of the 4 regions. Similar to above, it is important to check that this dataset is representative of a broader population of individuals. If a person were to use this dataset to create a classification model, it would be imperitive to make sure that the attributes are balanced.\n",
    "\n",
    "Quite often in the real-world, data is not balanced; this is an issue because it can lead to statistical issues when performing analysis. This is something that will be explored further in future portfolio projects!"
   ]
  },
  {
   "cell_type": "code",
   "execution_count": 10,
   "metadata": {},
   "outputs": [
    {
     "name": "stdout",
     "output_type": "stream",
     "text": [
      "Patients who do smoke have an average insurance charge of $32050.0\n",
      "Patients who do not smoke have an average insurance charge of $8434.0\n"
     ]
    }
   ],
   "source": [
    "patient_info.analyze_smokers()"
   ]
  },
  {
   "cell_type": "markdown",
   "metadata": {},
   "source": [
    "The third task was the compare the insurance charges of patients who smoked against those who did not smoke. Smokers on average have charges four times higher than that of non-smokers. There are other attributes in the dataset that effect the health of the individual (i.e., `BMI`, `gender`, `number of children`, and `age`). These attributes would better help explain the dataset. \n",
    "\n",
    "`BMI` and `age` could be grouped so we do an easier analysis. This dataset is ripe for data modeling."
   ]
  },
  {
   "cell_type": "code",
   "execution_count": 11,
   "metadata": {},
   "outputs": [
    {
     "name": "stdout",
     "output_type": "stream",
     "text": [
      "The average patient age for having 0 children is 38.4\n",
      "The average patient age for having 1 children is 39.5\n",
      "The average patient age for having 3 children is 41.6\n",
      "The average patient age for having 2 children is 39.4\n",
      "The average patient age for having 5 children is 35.6\n",
      "The average patient age for having 4 children is 39.0\n"
     ]
    }
   ],
   "source": [
    "patient_info.analyze_age_v_children()"
   ]
  },
  {
   "cell_type": "markdown",
   "metadata": {},
   "source": [
    "The fourth task was to analyze the average age of the patients by the number of children they have. Again we see another equal distribution of ages."
   ]
  },
  {
   "cell_type": "code",
   "execution_count": 12,
   "metadata": {},
   "outputs": [],
   "source": [
    "patient_dict = patient_info.create_dictionary()"
   ]
  },
  {
   "cell_type": "markdown",
   "metadata": {},
   "source": [
    "All patient data is now neatly organized in a dictionary to look at the values of each patient. This is convenient for further analysis if a decision is made to continue making investigations for the attributes in insurance.csv."
   ]
  },
  {
   "cell_type": "markdown",
   "metadata": {},
   "source": [
    "## Do it with Pandas"
   ]
  },
  {
   "cell_type": "markdown",
   "metadata": {},
   "source": [
    "The point of this exercise from Codecademy was to create a class that contained funcions to analyze a dataset. At the same time the **insurance.csv** could be loaded into a panadas dataframe and do the same, if not better analysis, in fewer lines of code that also comes with visuals (which I like). That is what is going to happen below."
   ]
  },
  {
   "cell_type": "code",
   "execution_count": 13,
   "metadata": {},
   "outputs": [],
   "source": [
    "# import the pandas library\n",
    "import pandas as pd"
   ]
  },
  {
   "cell_type": "markdown",
   "metadata": {},
   "source": [
    "### Explore the data"
   ]
  },
  {
   "cell_type": "code",
   "execution_count": 14,
   "metadata": {},
   "outputs": [
    {
     "data": {
      "text/html": [
       "<div>\n",
       "<style scoped>\n",
       "    .dataframe tbody tr th:only-of-type {\n",
       "        vertical-align: middle;\n",
       "    }\n",
       "\n",
       "    .dataframe tbody tr th {\n",
       "        vertical-align: top;\n",
       "    }\n",
       "\n",
       "    .dataframe thead th {\n",
       "        text-align: right;\n",
       "    }\n",
       "</style>\n",
       "<table border=\"1\" class=\"dataframe\">\n",
       "  <thead>\n",
       "    <tr style=\"text-align: right;\">\n",
       "      <th></th>\n",
       "      <th>age</th>\n",
       "      <th>sex</th>\n",
       "      <th>bmi</th>\n",
       "      <th>children</th>\n",
       "      <th>smoker</th>\n",
       "      <th>region</th>\n",
       "      <th>charges</th>\n",
       "    </tr>\n",
       "  </thead>\n",
       "  <tbody>\n",
       "    <tr>\n",
       "      <th>0</th>\n",
       "      <td>19</td>\n",
       "      <td>female</td>\n",
       "      <td>27.900</td>\n",
       "      <td>0</td>\n",
       "      <td>yes</td>\n",
       "      <td>southwest</td>\n",
       "      <td>16884.92400</td>\n",
       "    </tr>\n",
       "    <tr>\n",
       "      <th>1</th>\n",
       "      <td>18</td>\n",
       "      <td>male</td>\n",
       "      <td>33.770</td>\n",
       "      <td>1</td>\n",
       "      <td>no</td>\n",
       "      <td>southeast</td>\n",
       "      <td>1725.55230</td>\n",
       "    </tr>\n",
       "    <tr>\n",
       "      <th>2</th>\n",
       "      <td>28</td>\n",
       "      <td>male</td>\n",
       "      <td>33.000</td>\n",
       "      <td>3</td>\n",
       "      <td>no</td>\n",
       "      <td>southeast</td>\n",
       "      <td>4449.46200</td>\n",
       "    </tr>\n",
       "    <tr>\n",
       "      <th>3</th>\n",
       "      <td>33</td>\n",
       "      <td>male</td>\n",
       "      <td>22.705</td>\n",
       "      <td>0</td>\n",
       "      <td>no</td>\n",
       "      <td>northwest</td>\n",
       "      <td>21984.47061</td>\n",
       "    </tr>\n",
       "    <tr>\n",
       "      <th>4</th>\n",
       "      <td>32</td>\n",
       "      <td>male</td>\n",
       "      <td>28.880</td>\n",
       "      <td>0</td>\n",
       "      <td>no</td>\n",
       "      <td>northwest</td>\n",
       "      <td>3866.85520</td>\n",
       "    </tr>\n",
       "  </tbody>\n",
       "</table>\n",
       "</div>"
      ],
      "text/plain": [
       "   age     sex     bmi  children smoker     region      charges\n",
       "0   19  female  27.900         0    yes  southwest  16884.92400\n",
       "1   18    male  33.770         1     no  southeast   1725.55230\n",
       "2   28    male  33.000         3     no  southeast   4449.46200\n",
       "3   33    male  22.705         0     no  northwest  21984.47061\n",
       "4   32    male  28.880         0     no  northwest   3866.85520"
      ]
     },
     "execution_count": 14,
     "metadata": {},
     "output_type": "execute_result"
    }
   ],
   "source": [
    "# load the dataset\n",
    "df = pd.read_csv('insurance.csv')\n",
    "df.head()"
   ]
  },
  {
   "cell_type": "code",
   "execution_count": 15,
   "metadata": {},
   "outputs": [
    {
     "name": "stdout",
     "output_type": "stream",
     "text": [
      "<class 'pandas.core.frame.DataFrame'>\n",
      "RangeIndex: 1338 entries, 0 to 1337\n",
      "Data columns (total 7 columns):\n",
      " #   Column    Non-Null Count  Dtype  \n",
      "---  ------    --------------  -----  \n",
      " 0   age       1338 non-null   int64  \n",
      " 1   sex       1338 non-null   object \n",
      " 2   bmi       1338 non-null   float64\n",
      " 3   children  1338 non-null   int64  \n",
      " 4   smoker    1338 non-null   object \n",
      " 5   region    1338 non-null   object \n",
      " 6   charges   1338 non-null   float64\n",
      "dtypes: float64(2), int64(2), object(3)\n",
      "memory usage: 73.3+ KB\n"
     ]
    }
   ],
   "source": [
    "# look at the datatypes\n",
    "df.info()"
   ]
  },
  {
   "cell_type": "markdown",
   "metadata": {},
   "source": [
    "One of the first things to note are the datatype. `age`, `bmi`, `children`, and `charges` are loaded as integers and floats instead of strings like above without any extra lines of code. This makes it easy to perform statistical analysis on these attributes."
   ]
  },
  {
   "cell_type": "code",
   "execution_count": 16,
   "metadata": {},
   "outputs": [
    {
     "data": {
      "text/html": [
       "<div>\n",
       "<style scoped>\n",
       "    .dataframe tbody tr th:only-of-type {\n",
       "        vertical-align: middle;\n",
       "    }\n",
       "\n",
       "    .dataframe tbody tr th {\n",
       "        vertical-align: top;\n",
       "    }\n",
       "\n",
       "    .dataframe thead th {\n",
       "        text-align: right;\n",
       "    }\n",
       "</style>\n",
       "<table border=\"1\" class=\"dataframe\">\n",
       "  <thead>\n",
       "    <tr style=\"text-align: right;\">\n",
       "      <th></th>\n",
       "      <th>age</th>\n",
       "      <th>bmi</th>\n",
       "      <th>children</th>\n",
       "      <th>charges</th>\n",
       "    </tr>\n",
       "  </thead>\n",
       "  <tbody>\n",
       "    <tr>\n",
       "      <th>count</th>\n",
       "      <td>1338.000000</td>\n",
       "      <td>1338.000000</td>\n",
       "      <td>1338.000000</td>\n",
       "      <td>1338.000000</td>\n",
       "    </tr>\n",
       "    <tr>\n",
       "      <th>mean</th>\n",
       "      <td>39.207025</td>\n",
       "      <td>30.663397</td>\n",
       "      <td>1.094918</td>\n",
       "      <td>13270.422265</td>\n",
       "    </tr>\n",
       "    <tr>\n",
       "      <th>std</th>\n",
       "      <td>14.049960</td>\n",
       "      <td>6.098187</td>\n",
       "      <td>1.205493</td>\n",
       "      <td>12110.011237</td>\n",
       "    </tr>\n",
       "    <tr>\n",
       "      <th>min</th>\n",
       "      <td>18.000000</td>\n",
       "      <td>15.960000</td>\n",
       "      <td>0.000000</td>\n",
       "      <td>1121.873900</td>\n",
       "    </tr>\n",
       "    <tr>\n",
       "      <th>25%</th>\n",
       "      <td>27.000000</td>\n",
       "      <td>26.296250</td>\n",
       "      <td>0.000000</td>\n",
       "      <td>4740.287150</td>\n",
       "    </tr>\n",
       "    <tr>\n",
       "      <th>50%</th>\n",
       "      <td>39.000000</td>\n",
       "      <td>30.400000</td>\n",
       "      <td>1.000000</td>\n",
       "      <td>9382.033000</td>\n",
       "    </tr>\n",
       "    <tr>\n",
       "      <th>75%</th>\n",
       "      <td>51.000000</td>\n",
       "      <td>34.693750</td>\n",
       "      <td>2.000000</td>\n",
       "      <td>16639.912515</td>\n",
       "    </tr>\n",
       "    <tr>\n",
       "      <th>max</th>\n",
       "      <td>64.000000</td>\n",
       "      <td>53.130000</td>\n",
       "      <td>5.000000</td>\n",
       "      <td>63770.428010</td>\n",
       "    </tr>\n",
       "  </tbody>\n",
       "</table>\n",
       "</div>"
      ],
      "text/plain": [
       "               age          bmi     children       charges\n",
       "count  1338.000000  1338.000000  1338.000000   1338.000000\n",
       "mean     39.207025    30.663397     1.094918  13270.422265\n",
       "std      14.049960     6.098187     1.205493  12110.011237\n",
       "min      18.000000    15.960000     0.000000   1121.873900\n",
       "25%      27.000000    26.296250     0.000000   4740.287150\n",
       "50%      39.000000    30.400000     1.000000   9382.033000\n",
       "75%      51.000000    34.693750     2.000000  16639.912515\n",
       "max      64.000000    53.130000     5.000000  63770.428010"
      ]
     },
     "execution_count": 16,
     "metadata": {},
     "output_type": "execute_result"
    }
   ],
   "source": [
    "df.describe()"
   ]
  },
  {
   "cell_type": "markdown",
   "metadata": {},
   "source": [
    "### Average age of patients"
   ]
  },
  {
   "cell_type": "code",
   "execution_count": 17,
   "metadata": {},
   "outputs": [
    {
     "name": "stdout",
     "output_type": "stream",
     "text": [
      "39.20702541106129\n",
      "14.049960379216172\n"
     ]
    }
   ],
   "source": [
    "print(df.age.mean())\n",
    "print(df.age.std())"
   ]
  },
  {
   "cell_type": "markdown",
   "metadata": {},
   "source": [
    "`Mean` and `Standard Deviation` are built in functions in the pandas library. This makes it much easier to use than creating the functions like we did above in the `PatientsData` class. We have the same results as above as well."
   ]
  },
  {
   "cell_type": "markdown",
   "metadata": {},
   "source": [
    "### Distribution of locations"
   ]
  },
  {
   "cell_type": "code",
   "execution_count": 18,
   "metadata": {},
   "outputs": [
    {
     "data": {
      "text/plain": [
       "<matplotlib.axes._subplots.AxesSubplot at 0x7f97501f1190>"
      ]
     },
     "execution_count": 18,
     "metadata": {},
     "output_type": "execute_result"
    }
   ],
   "source": [
    "df[['region','age']].groupby('region').count().plot.bar(legend = False)"
   ]
  },
  {
   "cell_type": "markdown",
   "metadata": {},
   "source": [
    "### Compare costs between smokers and non-smokers"
   ]
  },
  {
   "cell_type": "code",
   "execution_count": 19,
   "metadata": {},
   "outputs": [
    {
     "data": {
      "text/plain": [
       "<matplotlib.axes._subplots.AxesSubplot at 0x7f9750189790>"
      ]
     },
     "execution_count": 19,
     "metadata": {},
     "output_type": "execute_result"
    },
    {
     "data": {
      "image/png": "[encoded data removed]",
      "text/plain": [
       "<Figure size 432x288 with 1 Axes>"
      ]
     },
     "metadata": {
      "needs_background": "light"
     },
     "output_type": "display_data"
    }
   ],
   "source": [
    "df.boxplot(by = 'smoker', column = 'charges')"
   ]
  },
  {
   "cell_type": "markdown",
   "metadata": {},
   "source": [
    "We want to dig deeper into those outliers for the non-smokers. What are the ages or BMI of those patients? The cut function of pandas allows us to easily categorize numerical data, so the ages can be grouped into every 10 years and the the BMI grouped by the values outlined by the CDC. We will create new columns for both of these"
   ]
  },
  {
   "cell_type": "code",
   "execution_count": 20,
   "metadata": {},
   "outputs": [
    {
     "data": {
      "text/html": [
       "<div>\n",
       "<style scoped>\n",
       "    .dataframe tbody tr th:only-of-type {\n",
       "        vertical-align: middle;\n",
       "    }\n",
       "\n",
       "    .dataframe tbody tr th {\n",
       "        vertical-align: top;\n",
       "    }\n",
       "\n",
       "    .dataframe thead th {\n",
       "        text-align: right;\n",
       "    }\n",
       "</style>\n",
       "<table border=\"1\" class=\"dataframe\">\n",
       "  <thead>\n",
       "    <tr style=\"text-align: right;\">\n",
       "      <th></th>\n",
       "      <th>age</th>\n",
       "      <th>sex</th>\n",
       "      <th>bmi</th>\n",
       "      <th>children</th>\n",
       "      <th>smoker</th>\n",
       "      <th>region</th>\n",
       "      <th>charges</th>\n",
       "      <th>age_group</th>\n",
       "      <th>bmi_group</th>\n",
       "    </tr>\n",
       "  </thead>\n",
       "  <tbody>\n",
       "    <tr>\n",
       "      <th>0</th>\n",
       "      <td>19</td>\n",
       "      <td>female</td>\n",
       "      <td>27.900</td>\n",
       "      <td>0</td>\n",
       "      <td>yes</td>\n",
       "      <td>southwest</td>\n",
       "      <td>16884.92400</td>\n",
       "      <td>10 - 19</td>\n",
       "      <td>Overweight</td>\n",
       "    </tr>\n",
       "    <tr>\n",
       "      <th>1</th>\n",
       "      <td>18</td>\n",
       "      <td>male</td>\n",
       "      <td>33.770</td>\n",
       "      <td>1</td>\n",
       "      <td>no</td>\n",
       "      <td>southeast</td>\n",
       "      <td>1725.55230</td>\n",
       "      <td>10 - 19</td>\n",
       "      <td>Obese</td>\n",
       "    </tr>\n",
       "    <tr>\n",
       "      <th>2</th>\n",
       "      <td>28</td>\n",
       "      <td>male</td>\n",
       "      <td>33.000</td>\n",
       "      <td>3</td>\n",
       "      <td>no</td>\n",
       "      <td>southeast</td>\n",
       "      <td>4449.46200</td>\n",
       "      <td>20 - 29</td>\n",
       "      <td>Obese</td>\n",
       "    </tr>\n",
       "    <tr>\n",
       "      <th>3</th>\n",
       "      <td>33</td>\n",
       "      <td>male</td>\n",
       "      <td>22.705</td>\n",
       "      <td>0</td>\n",
       "      <td>no</td>\n",
       "      <td>northwest</td>\n",
       "      <td>21984.47061</td>\n",
       "      <td>30 - 39</td>\n",
       "      <td>Overweight</td>\n",
       "    </tr>\n",
       "    <tr>\n",
       "      <th>4</th>\n",
       "      <td>32</td>\n",
       "      <td>male</td>\n",
       "      <td>28.880</td>\n",
       "      <td>0</td>\n",
       "      <td>no</td>\n",
       "      <td>northwest</td>\n",
       "      <td>3866.85520</td>\n",
       "      <td>30 - 39</td>\n",
       "      <td>Overweight</td>\n",
       "    </tr>\n",
       "  </tbody>\n",
       "</table>\n",
       "</div>"
      ],
      "text/plain": [
       "   age     sex     bmi  children smoker     region      charges age_group  \\\n",
       "0   19  female  27.900         0    yes  southwest  16884.92400   10 - 19   \n",
       "1   18    male  33.770         1     no  southeast   1725.55230   10 - 19   \n",
       "2   28    male  33.000         3     no  southeast   4449.46200   20 - 29   \n",
       "3   33    male  22.705         0     no  northwest  21984.47061   30 - 39   \n",
       "4   32    male  28.880         0     no  northwest   3866.85520   30 - 39   \n",
       "\n",
       "    bmi_group  \n",
       "0  Overweight  \n",
       "1       Obese  \n",
       "2       Obese  \n",
       "3  Overweight  \n",
       "4  Overweight  "
      ]
     },
     "execution_count": 20,
     "metadata": {},
     "output_type": "execute_result"
    }
   ],
   "source": [
    "# create the labels for each category. Ages will be by every 10 years and BMI is by the values from CDC\n",
    "age_labels = ['{0} - {1}'.format(i, i + 9) for i in range(0, 100, 10)]\n",
    "bmi_labels = ['Underweight', 'Healthy weight', 'Overweight', 'Obese']\n",
    "\n",
    "df['age_group'] = pd.cut(df.age, range(0, 105, 10), right=False, labels=age_labels)\n",
    "df['bmi_group'] = pd.cut(df.bmi, [0,18.5, 20, 30, 100], right=False, labels=bmi_labels)\n",
    "\n",
    "df.head()"
   ]
  },
  {
   "cell_type": "markdown",
   "metadata": {},
   "source": [
    "Now we can use the same boxplot to look at the distribution of `insurance charges` for `smokers` vs. `non-smokers` by their `BMI category` and by their `age range`."
   ]
  },
  {
   "cell_type": "code",
   "execution_count": 21,
   "metadata": {},
   "outputs": [
    {
     "data": {
      "text/plain": [
       "<matplotlib.axes._subplots.AxesSubplot at 0x7f9750752390>"
      ]
     },
     "execution_count": 21,
     "metadata": {},
     "output_type": "execute_result"
    },
    {
     "data": {
      "image/png": "[encoded data removed]",
      "text/plain": [
       "<Figure size 432x288 with 1 Axes>"
      ]
     },
     "metadata": {
      "needs_background": "light"
     },
     "output_type": "display_data"
    }
   ],
   "source": [
    "df.boxplot(by = ['bmi_group','smoker'], column = 'charges', rot=80)"
   ]
  },
  {
   "cell_type": "code",
   "execution_count": 22,
   "metadata": {},
   "outputs": [
    {
     "data": {
      "text/plain": [
       "<matplotlib.axes._subplots.AxesSubplot at 0x7f97507c0e90>"
      ]
     },
     "execution_count": 22,
     "metadata": {},
     "output_type": "execute_result"
    },
    {
     "data": {
      "image/png": "[encoded data removed]",
      "text/plain": [
       "<Figure size 432x288 with 1 Axes>"
      ]
     },
     "metadata": {
      "needs_background": "light"
     },
     "output_type": "display_data"
    }
   ],
   "source": [
    "df.boxplot(by = ['age_group','smoker'], column = 'charges', rot=80)"
   ]
  },
  {
   "cell_type": "markdown",
   "metadata": {},
   "source": [
    "### Average age by the number of children"
   ]
  },
  {
   "cell_type": "code",
   "execution_count": 23,
   "metadata": {},
   "outputs": [
    {
     "data": {
      "text/plain": [
       "<matplotlib.axes._subplots.AxesSubplot at 0x7f9750b94790>"
      ]
     },
     "execution_count": 23,
     "metadata": {},
     "output_type": "execute_result"
    },
    {
     "data": {
      "image/png": "[encoded data removed]",
      "text/plain": [
       "<Figure size 432x288 with 1 Axes>"
      ]
     },
     "metadata": {
      "needs_background": "light"
     },
     "output_type": "display_data"
    }
   ],
   "source": [
    "df[['age', 'children']].groupby('children').mean().plot()"
   ]
  },
  {
   "cell_type": "code",
   "execution_count": null,
   "metadata": {},
   "outputs": [],
   "source": []
  }
 ],
 "metadata": {
  "kernelspec": {
   "display_name": "Python 3",
   "language": "python",
   "name": "python3"
  },
  "language_info": {
   "codemirror_mode": {
    "name": "ipython",
    "version": 3
   },
   "file_extension": ".py",
   "mimetype": "text/x-python",
   "name": "python",
   "nbconvert_exporter": "python",
   "pygments_lexer": "ipython3",
   "version": "3.7.4"
  }
 },
 "nbformat": 4,
 "nbformat_minor": 4
}
